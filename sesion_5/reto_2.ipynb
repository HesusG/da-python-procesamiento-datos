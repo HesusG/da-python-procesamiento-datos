{
 "cells": [
  {
   "cell_type": "markdown",
   "metadata": {},
   "source": [
    "## Reto 2: Error estándar e intervalos de confianza\n",
    "\n",
    "### 1. Objetivos:\n",
    "    - Aprender a calcular e interpretar errores estándar e intervalos de confianza\n",
    " \n",
    "---\n",
    "    \n",
    "### 2. Desarrollo:"
   ]
  },
  {
   "cell_type": "markdown",
   "metadata": {},
   "source": [
    "[![Open In Colab](https://colab.research.google.com/assets/colab-badge.svg)](https://colab.research.google.com/github/HesusG/da-python-procesamiento-datos/blob/master/sesion_4/reto4.ipynb)"
   ]
  },
  {
   "cell_type": "markdown",
   "metadata": {},
   "source": [
    "Para este Reto de nuevo podrás elegir el dataset de tu agrado. Elige un dataset o una variable distinta que la del Reto anterior. Recuerda ordenar y explicar bien tu análisis para que sea comprensible para los demás. Una vez que hayas elegido un dataset y una variable que te parezcan interesantes, realiza los siguientes pasos:\n",
    "\n",
    "1. Primero explora tu variable con los métodos tradicionales: estimados de locación y dispersión, histograma, etc.\n",
    "2. Ahora usa la técnica de bootstrap para obtener la distribución muestral de la media y de la mediana de tu variable. Elige los parámetros más adecuados para el bootstrap basándote en los resultados obtenidos en el Reto anterior.\n",
    "3. Grafica la distribución muestral de la media y la mediana.\n",
    "4. Ahora, obtén el error estándar de ambas medidas estadísticas. Utiliza el mínimo, el máximo y el rango para contextualizar tu error estándar y saber qué tan grande o pequeño es.\n",
    "5. Ahora, para cada medida estadística obtén los intervalos de confianza de 90%, 95% y 99%. Compara los resultados.\n",
    "6. Comparte tus hallazgos con tus compañeros."
   ]
  },
  {
   "cell_type": "code",
   "execution_count": 1,
   "metadata": {},
   "outputs": [],
   "source": [
    "import pandas as pd\n",
    "import numpy as np\n",
    "import matplotlib.pyplot as plt\n",
    "import seaborn as sns"
   ]
  },
  {
   "cell_type": "code",
   "execution_count": 2,
   "metadata": {},
   "outputs": [],
   "source": [
    "%matplotlib inline\n",
    "sns.set(style=\"whitegrid\")  \n",
    "sns.set_palette(\"pastel\")  \n",
    "\n",
    "pd.set_option('display.max_columns', None)  \n",
    "pd.set_option('display.float_format', '{:.2f}'.format) \n",
    "pd.set_option('display.width', 1000)  "
   ]
  },
  {
   "cell_type": "code",
   "execution_count": 3,
   "metadata": {},
   "outputs": [],
   "source": [
    "error_std_media = None\n",
    "error_std_mediana = None"
   ]
  },
  {
   "cell_type": "code",
   "execution_count": 4,
   "metadata": {},
   "outputs": [],
   "source": [
    "data = pd.read_csv(\"https://raw.githubusercontent.com/beduExpert/B2-Analisis-de-Datos-con-Python-2020/f3eb6f4e0b70ac877359e0519a12d99c969e3773/Datasets/videogame_sales-raw.csv\")"
   ]
  },
  {
   "cell_type": "code",
   "execution_count": 5,
   "metadata": {},
   "outputs": [
    {
     "data": {
      "text/html": [
       "<div>\n",
       "<style scoped>\n",
       "    .dataframe tbody tr th:only-of-type {\n",
       "        vertical-align: middle;\n",
       "    }\n",
       "\n",
       "    .dataframe tbody tr th {\n",
       "        vertical-align: top;\n",
       "    }\n",
       "\n",
       "    .dataframe thead th {\n",
       "        text-align: right;\n",
       "    }\n",
       "</style>\n",
       "<table border=\"1\" class=\"dataframe\">\n",
       "  <thead>\n",
       "    <tr style=\"text-align: right;\">\n",
       "      <th></th>\n",
       "      <th>Rank</th>\n",
       "      <th>Name</th>\n",
       "      <th>Platform</th>\n",
       "      <th>Year</th>\n",
       "      <th>Genre</th>\n",
       "      <th>Publisher</th>\n",
       "      <th>NA_Sales</th>\n",
       "      <th>EU_Sales</th>\n",
       "      <th>JP_Sales</th>\n",
       "      <th>Other_Sales</th>\n",
       "      <th>Global_Sales</th>\n",
       "    </tr>\n",
       "  </thead>\n",
       "  <tbody>\n",
       "    <tr>\n",
       "      <th>0</th>\n",
       "      <td>1</td>\n",
       "      <td>Wii Sports</td>\n",
       "      <td>Wii</td>\n",
       "      <td>2006.00</td>\n",
       "      <td>Sports</td>\n",
       "      <td>Nintendo</td>\n",
       "      <td>41.49</td>\n",
       "      <td>29.02</td>\n",
       "      <td>3.77</td>\n",
       "      <td>8.46</td>\n",
       "      <td>82.74</td>\n",
       "    </tr>\n",
       "    <tr>\n",
       "      <th>1</th>\n",
       "      <td>2</td>\n",
       "      <td>Super Mario Bros.</td>\n",
       "      <td>NES</td>\n",
       "      <td>1985.00</td>\n",
       "      <td>Platform</td>\n",
       "      <td>Nintendo</td>\n",
       "      <td>29.08</td>\n",
       "      <td>3.58</td>\n",
       "      <td>6.81</td>\n",
       "      <td>0.77</td>\n",
       "      <td>40.24</td>\n",
       "    </tr>\n",
       "    <tr>\n",
       "      <th>2</th>\n",
       "      <td>3</td>\n",
       "      <td>Mario Kart Wii</td>\n",
       "      <td>Wii</td>\n",
       "      <td>2008.00</td>\n",
       "      <td>Racing</td>\n",
       "      <td>Nintendo</td>\n",
       "      <td>15.85</td>\n",
       "      <td>12.88</td>\n",
       "      <td>3.79</td>\n",
       "      <td>3.31</td>\n",
       "      <td>35.82</td>\n",
       "    </tr>\n",
       "    <tr>\n",
       "      <th>3</th>\n",
       "      <td>4</td>\n",
       "      <td>Wii Sports Resort</td>\n",
       "      <td>Wii</td>\n",
       "      <td>2009.00</td>\n",
       "      <td>Sports</td>\n",
       "      <td>Nintendo</td>\n",
       "      <td>15.75</td>\n",
       "      <td>11.01</td>\n",
       "      <td>3.28</td>\n",
       "      <td>2.96</td>\n",
       "      <td>33.00</td>\n",
       "    </tr>\n",
       "    <tr>\n",
       "      <th>4</th>\n",
       "      <td>5</td>\n",
       "      <td>Pokemon Red/Pokemon Blue</td>\n",
       "      <td>GB</td>\n",
       "      <td>1996.00</td>\n",
       "      <td>Role-Playing</td>\n",
       "      <td>Nintendo</td>\n",
       "      <td>11.27</td>\n",
       "      <td>8.89</td>\n",
       "      <td>10.22</td>\n",
       "      <td>1.00</td>\n",
       "      <td>31.37</td>\n",
       "    </tr>\n",
       "  </tbody>\n",
       "</table>\n",
       "</div>"
      ],
      "text/plain": [
       "   Rank                      Name Platform    Year         Genre Publisher  NA_Sales  EU_Sales  JP_Sales  Other_Sales  Global_Sales\n",
       "0     1                Wii Sports      Wii 2006.00        Sports  Nintendo     41.49     29.02      3.77         8.46         82.74\n",
       "1     2         Super Mario Bros.      NES 1985.00      Platform  Nintendo     29.08      3.58      6.81         0.77         40.24\n",
       "2     3            Mario Kart Wii      Wii 2008.00        Racing  Nintendo     15.85     12.88      3.79         3.31         35.82\n",
       "3     4         Wii Sports Resort      Wii 2009.00        Sports  Nintendo     15.75     11.01      3.28         2.96         33.00\n",
       "4     5  Pokemon Red/Pokemon Blue       GB 1996.00  Role-Playing  Nintendo     11.27      8.89     10.22         1.00         31.37"
      ]
     },
     "execution_count": 5,
     "metadata": {},
     "output_type": "execute_result"
    }
   ],
   "source": [
    "data.head()"
   ]
  },
  {
   "cell_type": "code",
   "execution_count": 6,
   "metadata": {},
   "outputs": [
    {
     "name": "stdout",
     "output_type": "stream",
     "text": [
      "<class 'pandas.core.frame.DataFrame'>\n",
      "RangeIndex: 16598 entries, 0 to 16597\n",
      "Data columns (total 11 columns):\n",
      " #   Column        Non-Null Count  Dtype  \n",
      "---  ------        --------------  -----  \n",
      " 0   Rank          16598 non-null  int64  \n",
      " 1   Name          16598 non-null  object \n",
      " 2   Platform      16598 non-null  object \n",
      " 3   Year          16327 non-null  float64\n",
      " 4   Genre         16598 non-null  object \n",
      " 5   Publisher     16540 non-null  object \n",
      " 6   NA_Sales      16598 non-null  float64\n",
      " 7   EU_Sales      16598 non-null  float64\n",
      " 8   JP_Sales      16598 non-null  float64\n",
      " 9   Other_Sales   16598 non-null  float64\n",
      " 10  Global_Sales  16598 non-null  float64\n",
      "dtypes: float64(6), int64(1), object(4)\n",
      "memory usage: 1.4+ MB\n"
     ]
    }
   ],
   "source": [
    "data.info()"
   ]
  },
  {
   "cell_type": "code",
   "execution_count": 7,
   "metadata": {},
   "outputs": [
    {
     "data": {
      "text/html": [
       "<div>\n",
       "<style scoped>\n",
       "    .dataframe tbody tr th:only-of-type {\n",
       "        vertical-align: middle;\n",
       "    }\n",
       "\n",
       "    .dataframe tbody tr th {\n",
       "        vertical-align: top;\n",
       "    }\n",
       "\n",
       "    .dataframe thead th {\n",
       "        text-align: right;\n",
       "    }\n",
       "</style>\n",
       "<table border=\"1\" class=\"dataframe\">\n",
       "  <thead>\n",
       "    <tr style=\"text-align: right;\">\n",
       "      <th></th>\n",
       "      <th>Rank</th>\n",
       "      <th>Year</th>\n",
       "      <th>NA_Sales</th>\n",
       "      <th>EU_Sales</th>\n",
       "      <th>JP_Sales</th>\n",
       "      <th>Other_Sales</th>\n",
       "      <th>Global_Sales</th>\n",
       "    </tr>\n",
       "  </thead>\n",
       "  <tbody>\n",
       "    <tr>\n",
       "      <th>count</th>\n",
       "      <td>16598.00</td>\n",
       "      <td>16327.00</td>\n",
       "      <td>16598.00</td>\n",
       "      <td>16598.00</td>\n",
       "      <td>16598.00</td>\n",
       "      <td>16598.00</td>\n",
       "      <td>16598.00</td>\n",
       "    </tr>\n",
       "    <tr>\n",
       "      <th>mean</th>\n",
       "      <td>8300.61</td>\n",
       "      <td>2006.41</td>\n",
       "      <td>0.26</td>\n",
       "      <td>0.15</td>\n",
       "      <td>0.08</td>\n",
       "      <td>0.05</td>\n",
       "      <td>0.54</td>\n",
       "    </tr>\n",
       "    <tr>\n",
       "      <th>std</th>\n",
       "      <td>4791.85</td>\n",
       "      <td>5.83</td>\n",
       "      <td>0.82</td>\n",
       "      <td>0.51</td>\n",
       "      <td>0.31</td>\n",
       "      <td>0.19</td>\n",
       "      <td>1.56</td>\n",
       "    </tr>\n",
       "    <tr>\n",
       "      <th>min</th>\n",
       "      <td>1.00</td>\n",
       "      <td>1980.00</td>\n",
       "      <td>0.00</td>\n",
       "      <td>0.00</td>\n",
       "      <td>0.00</td>\n",
       "      <td>0.00</td>\n",
       "      <td>0.01</td>\n",
       "    </tr>\n",
       "    <tr>\n",
       "      <th>25%</th>\n",
       "      <td>4151.25</td>\n",
       "      <td>2003.00</td>\n",
       "      <td>0.00</td>\n",
       "      <td>0.00</td>\n",
       "      <td>0.00</td>\n",
       "      <td>0.00</td>\n",
       "      <td>0.06</td>\n",
       "    </tr>\n",
       "    <tr>\n",
       "      <th>50%</th>\n",
       "      <td>8300.50</td>\n",
       "      <td>2007.00</td>\n",
       "      <td>0.08</td>\n",
       "      <td>0.02</td>\n",
       "      <td>0.00</td>\n",
       "      <td>0.01</td>\n",
       "      <td>0.17</td>\n",
       "    </tr>\n",
       "    <tr>\n",
       "      <th>75%</th>\n",
       "      <td>12449.75</td>\n",
       "      <td>2010.00</td>\n",
       "      <td>0.24</td>\n",
       "      <td>0.11</td>\n",
       "      <td>0.04</td>\n",
       "      <td>0.04</td>\n",
       "      <td>0.47</td>\n",
       "    </tr>\n",
       "    <tr>\n",
       "      <th>max</th>\n",
       "      <td>16600.00</td>\n",
       "      <td>2020.00</td>\n",
       "      <td>41.49</td>\n",
       "      <td>29.02</td>\n",
       "      <td>10.22</td>\n",
       "      <td>10.57</td>\n",
       "      <td>82.74</td>\n",
       "    </tr>\n",
       "  </tbody>\n",
       "</table>\n",
       "</div>"
      ],
      "text/plain": [
       "          Rank     Year  NA_Sales  EU_Sales  JP_Sales  Other_Sales  Global_Sales\n",
       "count 16598.00 16327.00  16598.00  16598.00  16598.00     16598.00      16598.00\n",
       "mean   8300.61  2006.41      0.26      0.15      0.08         0.05          0.54\n",
       "std    4791.85     5.83      0.82      0.51      0.31         0.19          1.56\n",
       "min       1.00  1980.00      0.00      0.00      0.00         0.00          0.01\n",
       "25%    4151.25  2003.00      0.00      0.00      0.00         0.00          0.06\n",
       "50%    8300.50  2007.00      0.08      0.02      0.00         0.01          0.17\n",
       "75%   12449.75  2010.00      0.24      0.11      0.04         0.04          0.47\n",
       "max   16600.00  2020.00     41.49     29.02     10.22        10.57         82.74"
      ]
     },
     "execution_count": 7,
     "metadata": {},
     "output_type": "execute_result"
    }
   ],
   "source": [
    "data.describe()"
   ]
  },
  {
   "cell_type": "code",
   "execution_count": 8,
   "metadata": {},
   "outputs": [
    {
     "data": {
      "image/png": "[encoded data removed]",
      "text/plain": [
       "<Figure size 1000x600 with 1 Axes>"
      ]
     },
     "metadata": {},
     "output_type": "display_data"
    }
   ],
   "source": [
    "plt.figure(figsize=(10, 6))\n",
    "sns.histplot(data['Global_Sales'], kde=True)\n",
    "plt.title('Histograma de Ventas Globales de Videojuegos')\n",
    "plt.xlabel('Ventas Globales (en millones)')\n",
    "plt.ylabel('Frecuencia')\n",
    "plt.show()"
   ]
  },
  {
   "cell_type": "code",
   "execution_count": 9,
   "metadata": {},
   "outputs": [
    {
     "data": {
      "image/png": "[encoded data removed]",
      "text/plain": [
       "<Figure size 1000x600 with 1 Axes>"
      ]
     },
     "metadata": {},
     "output_type": "display_data"
    }
   ],
   "source": [
    "plt.figure(figsize=(10, 6))\n",
    "sns.boxplot(x=data['Global_Sales'])\n",
    "plt.title('Boxplot de Ventas Globales de Videojuegos')\n",
    "plt.xlabel('Ventas Globales (en millones)')\n",
    "plt.show()"
   ]
  },
  {
   "cell_type": "code",
   "execution_count": 10,
   "metadata": {},
   "outputs": [
    {
     "data": {
      "image/png": "[encoded data removed]",
      "text/plain": [
       "<Figure size 1000x600 with 1 Axes>"
      ]
     },
     "metadata": {},
     "output_type": "display_data"
    }
   ],
   "source": [
    "plt.figure(figsize=(10, 6))\n",
    "sns.violinplot(x=data['Global_Sales'])\n",
    "plt.title('Violin Plot de Ventas Globales de Videojuegos')\n",
    "plt.xlabel('Ventas Globales (en millones)')\n",
    "plt.show()"
   ]
  },
  {
   "cell_type": "markdown",
   "metadata": {},
   "source": [
    "El gráfico tiene una forma similar a un violín o una media luna, de ahí su nombre. La parte ancha del violín representa las regiones de mayor densidad de datos, mientras que las partes estrechas indican regiones de menor densidad.\n",
    "\n",
    "Box Plot en el Interior: En el centro del violín, generalmente encontrarás un box plot vertical. Este box plot muestra la mediana (línea en el medio), los cuartiles (cajas superior e inferior) y los posibles valores atípicos (puntos fuera de las \"bigotes\")."
   ]
  },
  {
   "cell_type": "markdown",
   "metadata": {},
   "source": [
    "En una distribución asimétrica, la media (promedio) puede no ser una medida representativa de la tendencia central de los datos. En cambio, la mediana (el valor que divide la mitad superior de los datos de la mitad inferior) puede ser una medida más adecuada para describir la ubicación central de los datos, ya que es menos sensible a los valores atípicos y refleja mejor la posición del pico de la distribución."
   ]
  },
  {
   "cell_type": "code",
   "execution_count": 11,
   "metadata": {},
   "outputs": [
    {
     "data": {
      "text/html": [
       "<div>\n",
       "<style scoped>\n",
       "    .dataframe tbody tr th:only-of-type {\n",
       "        vertical-align: middle;\n",
       "    }\n",
       "\n",
       "    .dataframe tbody tr th {\n",
       "        vertical-align: top;\n",
       "    }\n",
       "\n",
       "    .dataframe thead th {\n",
       "        text-align: right;\n",
       "    }\n",
       "</style>\n",
       "<table border=\"1\" class=\"dataframe\">\n",
       "  <thead>\n",
       "    <tr style=\"text-align: right;\">\n",
       "      <th></th>\n",
       "      <th>Rank</th>\n",
       "      <th>Name</th>\n",
       "      <th>Platform</th>\n",
       "      <th>Year</th>\n",
       "      <th>Genre</th>\n",
       "      <th>Publisher</th>\n",
       "      <th>NA_Sales</th>\n",
       "      <th>EU_Sales</th>\n",
       "      <th>JP_Sales</th>\n",
       "      <th>Other_Sales</th>\n",
       "      <th>Global_Sales</th>\n",
       "    </tr>\n",
       "  </thead>\n",
       "  <tbody>\n",
       "    <tr>\n",
       "      <th>2081</th>\n",
       "      <td>2083</td>\n",
       "      <td>Dead Space 3</td>\n",
       "      <td>X360</td>\n",
       "      <td>2013.00</td>\n",
       "      <td>Action</td>\n",
       "      <td>Electronic Arts</td>\n",
       "      <td>0.64</td>\n",
       "      <td>0.28</td>\n",
       "      <td>0.00</td>\n",
       "      <td>0.08</td>\n",
       "      <td>0.99</td>\n",
       "    </tr>\n",
       "    <tr>\n",
       "      <th>2082</th>\n",
       "      <td>2084</td>\n",
       "      <td>Phoenix Wright: Ace Attorney</td>\n",
       "      <td>DS</td>\n",
       "      <td>2005.00</td>\n",
       "      <td>Adventure</td>\n",
       "      <td>Capcom</td>\n",
       "      <td>0.49</td>\n",
       "      <td>0.07</td>\n",
       "      <td>0.39</td>\n",
       "      <td>0.05</td>\n",
       "      <td>0.99</td>\n",
       "    </tr>\n",
       "    <tr>\n",
       "      <th>2083</th>\n",
       "      <td>2085</td>\n",
       "      <td>NFL Fever 2002</td>\n",
       "      <td>XB</td>\n",
       "      <td>2000.00</td>\n",
       "      <td>Sports</td>\n",
       "      <td>Microsoft Game Studios</td>\n",
       "      <td>0.74</td>\n",
       "      <td>0.21</td>\n",
       "      <td>0.00</td>\n",
       "      <td>0.04</td>\n",
       "      <td>0.99</td>\n",
       "    </tr>\n",
       "    <tr>\n",
       "      <th>2084</th>\n",
       "      <td>2086</td>\n",
       "      <td>The Simpsons: Hit &amp; Run</td>\n",
       "      <td>GC</td>\n",
       "      <td>2003.00</td>\n",
       "      <td>Racing</td>\n",
       "      <td>Vivendi Games</td>\n",
       "      <td>0.77</td>\n",
       "      <td>0.20</td>\n",
       "      <td>0.00</td>\n",
       "      <td>0.03</td>\n",
       "      <td>0.99</td>\n",
       "    </tr>\n",
       "    <tr>\n",
       "      <th>2085</th>\n",
       "      <td>2087</td>\n",
       "      <td>Littlest Pet Shop: Winter</td>\n",
       "      <td>DS</td>\n",
       "      <td>2008.00</td>\n",
       "      <td>Simulation</td>\n",
       "      <td>Electronic Arts</td>\n",
       "      <td>0.59</td>\n",
       "      <td>0.31</td>\n",
       "      <td>0.00</td>\n",
       "      <td>0.10</td>\n",
       "      <td>0.99</td>\n",
       "    </tr>\n",
       "    <tr>\n",
       "      <th>...</th>\n",
       "      <td>...</td>\n",
       "      <td>...</td>\n",
       "      <td>...</td>\n",
       "      <td>...</td>\n",
       "      <td>...</td>\n",
       "      <td>...</td>\n",
       "      <td>...</td>\n",
       "      <td>...</td>\n",
       "      <td>...</td>\n",
       "      <td>...</td>\n",
       "      <td>...</td>\n",
       "    </tr>\n",
       "    <tr>\n",
       "      <th>16593</th>\n",
       "      <td>16596</td>\n",
       "      <td>Woody Woodpecker in Crazy Castle 5</td>\n",
       "      <td>GBA</td>\n",
       "      <td>2002.00</td>\n",
       "      <td>Platform</td>\n",
       "      <td>Kemco</td>\n",
       "      <td>0.01</td>\n",
       "      <td>0.00</td>\n",
       "      <td>0.00</td>\n",
       "      <td>0.00</td>\n",
       "      <td>0.01</td>\n",
       "    </tr>\n",
       "    <tr>\n",
       "      <th>16594</th>\n",
       "      <td>16597</td>\n",
       "      <td>Men in Black II: Alien Escape</td>\n",
       "      <td>GC</td>\n",
       "      <td>2003.00</td>\n",
       "      <td>Shooter</td>\n",
       "      <td>Infogrames</td>\n",
       "      <td>0.01</td>\n",
       "      <td>0.00</td>\n",
       "      <td>0.00</td>\n",
       "      <td>0.00</td>\n",
       "      <td>0.01</td>\n",
       "    </tr>\n",
       "    <tr>\n",
       "      <th>16595</th>\n",
       "      <td>16598</td>\n",
       "      <td>SCORE International Baja 1000: The Official Game</td>\n",
       "      <td>PS2</td>\n",
       "      <td>2008.00</td>\n",
       "      <td>Racing</td>\n",
       "      <td>Activision</td>\n",
       "      <td>0.00</td>\n",
       "      <td>0.00</td>\n",
       "      <td>0.00</td>\n",
       "      <td>0.00</td>\n",
       "      <td>0.01</td>\n",
       "    </tr>\n",
       "    <tr>\n",
       "      <th>16596</th>\n",
       "      <td>16599</td>\n",
       "      <td>Know How 2</td>\n",
       "      <td>DS</td>\n",
       "      <td>2010.00</td>\n",
       "      <td>Puzzle</td>\n",
       "      <td>7G//AMES</td>\n",
       "      <td>0.00</td>\n",
       "      <td>0.01</td>\n",
       "      <td>0.00</td>\n",
       "      <td>0.00</td>\n",
       "      <td>0.01</td>\n",
       "    </tr>\n",
       "    <tr>\n",
       "      <th>16597</th>\n",
       "      <td>16600</td>\n",
       "      <td>Spirits &amp; Spells</td>\n",
       "      <td>GBA</td>\n",
       "      <td>2003.00</td>\n",
       "      <td>Platform</td>\n",
       "      <td>Wanadoo</td>\n",
       "      <td>0.01</td>\n",
       "      <td>0.00</td>\n",
       "      <td>0.00</td>\n",
       "      <td>0.00</td>\n",
       "      <td>0.01</td>\n",
       "    </tr>\n",
       "  </tbody>\n",
       "</table>\n",
       "<p>14517 rows × 11 columns</p>\n",
       "</div>"
      ],
      "text/plain": [
       "        Rank                                              Name Platform    Year       Genre               Publisher  NA_Sales  EU_Sales  JP_Sales  Other_Sales  Global_Sales\n",
       "2081    2083                                      Dead Space 3     X360 2013.00      Action         Electronic Arts      0.64      0.28      0.00         0.08          0.99\n",
       "2082    2084                      Phoenix Wright: Ace Attorney       DS 2005.00   Adventure                  Capcom      0.49      0.07      0.39         0.05          0.99\n",
       "2083    2085                                    NFL Fever 2002       XB 2000.00      Sports  Microsoft Game Studios      0.74      0.21      0.00         0.04          0.99\n",
       "2084    2086                           The Simpsons: Hit & Run       GC 2003.00      Racing           Vivendi Games      0.77      0.20      0.00         0.03          0.99\n",
       "2085    2087                         Littlest Pet Shop: Winter       DS 2008.00  Simulation         Electronic Arts      0.59      0.31      0.00         0.10          0.99\n",
       "...      ...                                               ...      ...     ...         ...                     ...       ...       ...       ...          ...           ...\n",
       "16593  16596                Woody Woodpecker in Crazy Castle 5      GBA 2002.00    Platform                   Kemco      0.01      0.00      0.00         0.00          0.01\n",
       "16594  16597                     Men in Black II: Alien Escape       GC 2003.00     Shooter              Infogrames      0.01      0.00      0.00         0.00          0.01\n",
       "16595  16598  SCORE International Baja 1000: The Official Game      PS2 2008.00      Racing              Activision      0.00      0.00      0.00         0.00          0.01\n",
       "16596  16599                                        Know How 2       DS 2010.00      Puzzle                7G//AMES      0.00      0.01      0.00         0.00          0.01\n",
       "16597  16600                                  Spirits & Spells      GBA 2003.00    Platform                 Wanadoo      0.01      0.00      0.00         0.00          0.01\n",
       "\n",
       "[14517 rows x 11 columns]"
      ]
     },
     "execution_count": 11,
     "metadata": {},
     "output_type": "execute_result"
    }
   ],
   "source": [
    "data[data['Global_Sales'] < 1]"
   ]
  },
  {
   "cell_type": "code",
   "execution_count": 12,
   "metadata": {},
   "outputs": [
    {
     "data": {
      "text/plain": [
       "0.874623448608266"
      ]
     },
     "execution_count": 12,
     "metadata": {},
     "output_type": "execute_result"
    }
   ],
   "source": [
    "len(data[data['Global_Sales'] < 1]) / len(data)"
   ]
  },
  {
   "cell_type": "code",
   "execution_count": 13,
   "metadata": {},
   "outputs": [],
   "source": [
    "def bootstraping_sample_statistic(data, columna, muestras=1000, n_muestra=400):\n",
    "\n",
    "    n_size = n_muestra\n",
    "    sample_statistic = []\n",
    "\n",
    "    np.random.seed(12345)  # Para reproducibilidad\n",
    "    for i in range(muestras):\n",
    "        sample = np.random.choice(data[columna], size=n_size, replace=True) # importante el replace\n",
    "        sample_statistic.append(np.mean(sample))\n",
    "\n",
    "    bootstrap_medias = np.array(sample_statistic)\n",
    "\n",
    "\n",
    "    plt.figure(figsize=(10, 6))\n",
    "    sns.histplot(bootstrap_medias, kde=True)\n",
    "    plt.title('Distribución Muestral de la Media')\n",
    "    plt.xlabel('Media de Ventas Globales (en millones)')\n",
    "    plt.ylabel('Frecuencia')\n",
    "    plt.show()\n",
    "\n",
    "    return bootstrap_medias"
   ]
  },
  {
   "cell_type": "markdown",
   "metadata": {},
   "source": [
    "**Bootstrapping:** \n",
    "El bootstrapping es una técnica de re-muestreo que implica tomar repetidamente muestras de un conjunto de datos con reemplazo y calcular una estadística (como la media o la mediana) para cada muestra. Estas estadísticas de las muestras se utilizan para estimar propiedades como la media y la mediana de la población, el error estándar de estas estimaciones y los intervalos de confianza. El bootstrapping es particularmente útil cuando no se conoce la distribución subyacente de los datos o cuando el conjunto de datos es pequeño.\n"
   ]
  },
  {
   "cell_type": "code",
   "execution_count": 14,
   "metadata": {},
   "outputs": [
    {
     "data": {
      "image/png": "[encoded data removed]",
      "text/plain": [
       "<Figure size 1000x600 with 1 Axes>"
      ]
     },
     "metadata": {},
     "output_type": "display_data"
    }
   ],
   "source": [
    "medias = bootstraping_sample_statistic(data,'Global_Sales', 1000)"
   ]
  },
  {
   "cell_type": "markdown",
   "metadata": {},
   "source": [
    "Observas que el histograma se extiende desde 0 hasta 0.8 en el eje x. Esto indica que las medias de tus muestras bootstrap se encuentran en ese rango.<br>\n",
    "\n",
    "La forma de campana del histograma, a pesar del sesgo leve hacia la izquierda, sugiere que las medias se distribuyen de manera más o menos simétrica alrededor de un valor central. Esta es una característica deseable, ya que significa que las medias bootstrap tienden a estar centradas en un valor que podría ser una buena estimación de la media poblacional.<br>\n",
    "\n",
    "<b>Para qué lo usamos</b>\n",
    "Estimación de la Media Poblacional: El histograma de medias te permite estimar la media poblacional o un valor típico de 'Global_Sales' junto con su variabilidad. No te proporciona probabilidades de eventos específicos, sino una distribución de probabilidad de la media muestral.\n",
    "\n",
    "Intervalos de Confianza: Puedes utilizar la distribución de medias muestrales para construir intervalos de confianza alrededor de la estimación de la media poblacional. Estos intervalos te dan una idea de la probabilidad de que la verdadera media poblacional se encuentre dentro de cierto rango.\n",
    "\n",
    "Inferencia Estadística: Si deseas realizar inferencias sobre 'Global_Sales', como probar hipótesis o realizar predicciones, puedes utilizar la información del histograma y técnicas estadísticas para calcular probabilidades relacionadas con esas inferencias."
   ]
  },
  {
   "cell_type": "markdown",
   "metadata": {},
   "source": [
    "# 3. Error Estándar y Intervalos de Confianza"
   ]
  },
  {
   "cell_type": "code",
   "execution_count": 15,
   "metadata": {},
   "outputs": [],
   "source": [
    "def calcular_error_estandar(distribucion):\n",
    "    distribucion_pd = pd.Series(distribucion)\n",
    "    desviacion_estandar = distribucion_pd.std()\n",
    "    n = len(distribucion_pd)\n",
    "    error_estandar = desviacion_estandar / (n ** 0.5)\n",
    "    return error_estandar\n",
    "\n",
    "def calcular_intervalo_confianza_95(distribucion):\n",
    "    distribucion_pd = pd.Series(distribucion)\n",
    "    lower_quantile = round(distribucion_pd.quantile(0.025), 2)\n",
    "    upper_quantile = round(distribucion_pd.quantile(0.975), 2)\n",
    "    \n",
    "    confidence_interval = [lower_quantile, upper_quantile]\n",
    "    return confidence_interval"
   ]
  },
  {
   "cell_type": "code",
   "execution_count": 16,
   "metadata": {},
   "outputs": [
    {
     "data": {
      "text/plain": [
       "0.002503404818534117"
      ]
     },
     "execution_count": 16,
     "metadata": {},
     "output_type": "execute_result"
    }
   ],
   "source": [
    "calcular_error_estandar(medias)"
   ]
  },
  {
   "cell_type": "markdown",
   "metadata": {},
   "source": [
    "**Error Estándar:** \n",
    "El error estándar de una estadística (como la media) es una medida de la variabilidad o dispersión de sus valores cuando se toman múltiples muestras de una población. Esencialmente, indica cuánto se espera que varíe la estadística de una muestra a otra. Un error estándar pequeño sugiere que la estadística es relativamente precisa (es decir, no varía mucho entre las muestras), mientras que un error estándar grande indica una mayor variabilidad y, por lo tanto, menor precisión."
   ]
  },
  {
   "cell_type": "code",
   "execution_count": 17,
   "metadata": {},
   "outputs": [
    {
     "data": {
      "text/plain": [
       "[0.41, 0.74]"
      ]
     },
     "execution_count": 17,
     "metadata": {},
     "output_type": "execute_result"
    }
   ],
   "source": [
    "calcular_intervalo_confianza_95(medias)"
   ]
  },
  {
   "cell_type": "markdown",
   "metadata": {},
   "source": [
    "**Intervalo de Confianza:** \n",
    "    Un intervalo de confianza proporciona un rango estimado de valores que es probable que incluya un parámetro de población desconocido. Por ejemplo, un intervalo de confianza del 95% para la media sugiere que si tomáramos muchas muestras y calculáramos este intervalo para cada una, esperaríamos que aproximadamente el 95% de estos intervalos contengan la verdadera media de la población. Los intervalos de confianza son una forma de cuantificar la incertidumbre asociada con una estimación."
   ]
  },
  {
   "cell_type": "markdown",
   "metadata": {},
   "source": []
  }
 ],
 "metadata": {
  "kernelspec": {
   "display_name": "Python 3",
   "language": "python",
   "name": "python3"
  },
  "language_info": {
   "codemirror_mode": {
    "name": "ipython",
    "version": 3
   },
   "file_extension": ".py",
   "mimetype": "text/x-python",
   "name": "python",
   "nbconvert_exporter": "python",
   "pygments_lexer": "ipython3",
   "version": "3.7.16"
  }
 },
 "nbformat": 4,
 "nbformat_minor": 4
}
