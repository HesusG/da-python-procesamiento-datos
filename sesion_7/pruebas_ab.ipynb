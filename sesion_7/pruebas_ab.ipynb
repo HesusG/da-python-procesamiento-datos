{
 "cells": [
  {
   "cell_type": "markdown",
   "metadata": {},
   "source": [
    "## Reto 1: Pruebas A/B\n",
    "\n",
    "### 1. Objetivos:\n",
    "    - Practicar evaluar los resultados de una Prueba A/B\n",
    " \n",
    "---\n",
    "    \n",
    "### 2. Desarrollo:"
   ]
  },
  {
   "cell_type": "markdown",
   "metadata": {},
   "source": [
    "### a) Evaluando una prueba A/B de flujo de ventas\n",
    "\n",
    "El archivo 'ab_test-sales_pipeline-2' tiene datos muy similares a los que vimos en el último ejemplo. Estamos evaluando dos flujos de ventas distintos: A y B. Cada vez que alguien compró el producto gracias a uno de los dos flujos, se registró como un `1` en la columna `conversion` y un `0` en la columna `no conversion`.\n",
    "\n",
    "Evalúa la prueba A/B para saber si los resultados obtenidos son estadísticamente significativos. El Reto consiste en los siguientes pasos:\n",
    "\n",
    "1. Primero cuantifica cuál de los flujos de ventas fue más efectivo y en qué proporción.\n",
    "2. Después aplica el test de permutación:\n",
    "    1. Combina los resultados de ambos grupos en un mismo conjunto de datos\n",
    "    2. Revuelve los datos\n",
    "    3. Usando muestreo aleatorio sin reposición, construye un nuevo grupo A del mismo tamaño que el original.\n",
    "    4. El resto de los datos conforman nuestro nuevo grupo B.\n",
    "    5. Cuantifica la métrica o estadística que calculaste con los grupos originales y guarda el resultado.\n",
    "    6. Repite los pasos 1-5 `R` veces para obtener una distribución de la estadística de interés.\n",
    "3. Grafica tus resultados en un histograma y grafica una línea vertical que marque el resultado del experimento.\n",
    "4. Cuantifica el Valor P y evalúa la significación estadística con un Alfa de 0.05 (5%).\n",
    "5. Comenta tus hallazgos con tus compañeros y la experta."
   ]
  },
  {
   "cell_type": "code",
   "execution_count": null,
   "metadata": {},
   "outputs": [],
   "source": []
  }
 ],
 "metadata": {
  "kernelspec": {
   "display_name": "Python (data_science)",
   "language": "python",
   "name": "data_science"
  },
  "language_info": {
   "codemirror_mode": {
    "name": "ipython",
    "version": 3
   },
   "file_extension": ".py",
   "mimetype": "text/x-python",
   "name": "python",
   "nbconvert_exporter": "python",
   "pygments_lexer": "ipython3",
   "version": "3.7.6"
  }
 },
 "nbformat": 4,
 "nbformat_minor": 4
}
