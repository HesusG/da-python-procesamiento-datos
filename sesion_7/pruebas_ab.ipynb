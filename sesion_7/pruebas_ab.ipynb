{
 "cells": [
  {
   "cell_type": "markdown",
   "metadata": {},
   "source": [
    "## Reto 1: Pruebas A/B\n",
    "\n",
    "### 1. Objetivos:\n",
    "    - Practicar evaluar los resultados de una Prueba A/B\n",
    " \n",
    "---\n",
    "    \n",
    "### 2. Desarrollo:"
   ]
  },
  {
   "cell_type": "markdown",
   "metadata": {},
   "source": [
    "### a) Evaluando una prueba A/B de flujo de ventas\n",
    "\n",
    "El archivo 'ab_test-sales_pipeline-2' tiene datos muy similares a los que vimos en el último ejemplo. Estamos evaluando dos flujos de ventas distintos: A y B. Cada vez que alguien compró el producto gracias a uno de los dos flujos, se registró como un `1` en la columna `conversion` y un `0` en la columna `no conversion`.\n",
    "\n",
    "Evalúa la prueba A/B para saber si los resultados obtenidos son estadísticamente significativos. El Reto consiste en los siguientes pasos:\n",
    "\n",
    "1. Primero cuantifica cuál de los flujos de ventas fue más efectivo y en qué proporción.\n",
    "2. Después aplica el test de permutación:\n",
    "    1. Combina los resultados de ambos grupos en un mismo conjunto de datos\n",
    "    2. Revuelve los datos\n",
    "    3. Usando muestreo aleatorio sin reposición, construye un nuevo grupo A del mismo tamaño que el original.\n",
    "    4. El resto de los datos conforman nuestro nuevo grupo B.\n",
    "    5. Cuantifica la métrica o estadística que calculaste con los grupos originales y guarda el resultado.\n",
    "    6. Repite los pasos 1-5 `R` veces para obtener una distribución de la estadística de interés.\n",
    "3. Grafica tus resultados en un histograma y grafica una línea vertical que marque el resultado del experimento.\n",
    "4. Cuantifica el Valor P y evalúa la significación estadística con un Alfa de 0.05 (5%).\n",
    "5. Comenta tus hallazgos con tus compañeros y la experta."
   ]
  },
  {
   "cell_type": "code",
   "execution_count": 8,
   "metadata": {},
   "outputs": [],
   "source": [
    "import pandas as pd\n",
    "import numpy as np\n",
    "import matplotlib.pyplot as plt\n",
    "import seaborn as sns\n",
    "from scipy import stats"
   ]
  },
  {
   "cell_type": "code",
   "execution_count": 2,
   "metadata": {},
   "outputs": [],
   "source": [
    "df = pd.read_csv('https://raw.githubusercontent.com/beduExpert/B2-Analisis-de-Datos-con-Python-2020/master/Datasets/ab_test-sales_pipeline-2.csv')"
   ]
  },
  {
   "cell_type": "code",
   "execution_count": 11,
   "metadata": {},
   "outputs": [
    {
     "data": {
      "text/html": [
       "<div>\n",
       "<style scoped>\n",
       "    .dataframe tbody tr th:only-of-type {\n",
       "        vertical-align: middle;\n",
       "    }\n",
       "\n",
       "    .dataframe tbody tr th {\n",
       "        vertical-align: top;\n",
       "    }\n",
       "\n",
       "    .dataframe thead th {\n",
       "        text-align: right;\n",
       "    }\n",
       "</style>\n",
       "<table border=\"1\" class=\"dataframe\">\n",
       "  <thead>\n",
       "    <tr style=\"text-align: right;\">\n",
       "      <th></th>\n",
       "      <th>test</th>\n",
       "      <th>conversion</th>\n",
       "      <th>no conversion</th>\n",
       "    </tr>\n",
       "  </thead>\n",
       "  <tbody>\n",
       "    <tr>\n",
       "      <th>0</th>\n",
       "      <td>A</td>\n",
       "      <td>0</td>\n",
       "      <td>1</td>\n",
       "    </tr>\n",
       "    <tr>\n",
       "      <th>1</th>\n",
       "      <td>B</td>\n",
       "      <td>0</td>\n",
       "      <td>1</td>\n",
       "    </tr>\n",
       "    <tr>\n",
       "      <th>2</th>\n",
       "      <td>A</td>\n",
       "      <td>0</td>\n",
       "      <td>1</td>\n",
       "    </tr>\n",
       "    <tr>\n",
       "      <th>3</th>\n",
       "      <td>A</td>\n",
       "      <td>0</td>\n",
       "      <td>1</td>\n",
       "    </tr>\n",
       "    <tr>\n",
       "      <th>4</th>\n",
       "      <td>B</td>\n",
       "      <td>0</td>\n",
       "      <td>1</td>\n",
       "    </tr>\n",
       "  </tbody>\n",
       "</table>\n",
       "</div>"
      ],
      "text/plain": [
       "  test  conversion  no conversion\n",
       "0    A           0              1\n",
       "1    B           0              1\n",
       "2    A           0              1\n",
       "3    A           0              1\n",
       "4    B           0              1"
      ]
     },
     "execution_count": 11,
     "metadata": {},
     "output_type": "execute_result"
    }
   ],
   "source": [
    "df.head()"
   ]
  },
  {
   "cell_type": "code",
   "execution_count": 12,
   "metadata": {},
   "outputs": [
    {
     "data": {
      "text/html": [
       "<div>\n",
       "<style scoped>\n",
       "    .dataframe tbody tr th:only-of-type {\n",
       "        vertical-align: middle;\n",
       "    }\n",
       "\n",
       "    .dataframe tbody tr th {\n",
       "        vertical-align: top;\n",
       "    }\n",
       "\n",
       "    .dataframe thead th {\n",
       "        text-align: right;\n",
       "    }\n",
       "</style>\n",
       "<table border=\"1\" class=\"dataframe\">\n",
       "  <thead>\n",
       "    <tr style=\"text-align: right;\">\n",
       "      <th></th>\n",
       "      <th>test</th>\n",
       "      <th>conversion</th>\n",
       "      <th>no conversion</th>\n",
       "    </tr>\n",
       "  </thead>\n",
       "  <tbody>\n",
       "    <tr>\n",
       "      <th>75626</th>\n",
       "      <td>B</td>\n",
       "      <td>1</td>\n",
       "      <td>0</td>\n",
       "    </tr>\n",
       "  </tbody>\n",
       "</table>\n",
       "</div>"
      ],
      "text/plain": [
       "      test  conversion  no conversion\n",
       "75626    B           1              0"
      ]
     },
     "execution_count": 12,
     "metadata": {},
     "output_type": "execute_result"
    }
   ],
   "source": [
    "df.sample()"
   ]
  },
  {
   "cell_type": "markdown",
   "metadata": {},
   "source": [
    "#### Paso 1: Cuantificar la efectividad de los flujos de ventas\n"
   ]
  },
  {
   "cell_type": "code",
   "execution_count": 3,
   "metadata": {},
   "outputs": [
    {
     "name": "stdout",
     "output_type": "stream",
     "text": [
      "      conversion  no conversion  success rate\n",
      "test                                         \n",
      "A           4163          30576      0.119836\n",
      "B           4841          36747      0.116404\n",
      "El test A fue 2.86% más efectivo que el test B para generar ventas.\n"
     ]
    }
   ],
   "source": [
    "total_count = df.groupby('test')[['conversion', 'no conversion']].sum()\n",
    "total_count['success rate'] = total_count['conversion'] / (total_count['conversion'] + total_count['no conversion'])\n",
    "print(total_count)\n",
    "\n",
    "# Calcular la diferencia en proporción\n",
    "diferencia_en_proporcion = 1 - (total_count.loc['B']['success rate'] / total_count.loc['A']['success rate'])\n",
    "print(f'El test A fue {diferencia_en_proporcion * 100:.2f}% más efectivo que el test B para generar ventas.')"
   ]
  },
  {
   "cell_type": "markdown",
   "metadata": {},
   "source": [
    "#### Paso 2: Aplicar el test de permutación"
   ]
  },
  {
   "cell_type": "code",
   "execution_count": 5,
   "metadata": {},
   "outputs": [],
   "source": [
    "value_counts = df['test'].value_counts()\n",
    "conv_a = []\n",
    "no_conv_a = []\n",
    "conv_b = []\n",
    "no_conv_b = []\n",
    "\n",
    "for _ in range(1000):  # R=1000 iteraciones\n",
    "    # 2c. Construir un nuevo grupo A mediante muestreo aleatorio sin reposición del mismo tamaño que el original\n",
    "    a = df.sample(value_counts.loc['A'], replace=False)\n",
    "    # Registrar conversiones y no conversiones para el nuevo grupo A\n",
    "    conv_a.append(a['conversion'].sum())\n",
    "    no_conv_a.append(a['no conversion'].sum())\n",
    "    \n",
    "    # 2d. El resto de los datos conforman nuestro nuevo grupo B\n",
    "    b = df.loc[~df.index.isin(a.index)]\n",
    "    # Registrar conversiones y no conversiones para el nuevo grupo B\n",
    "    conv_b.append(b['conversion'].sum())\n",
    "    no_conv_b.append(b['no conversion'].sum())\n",
    "\n",
    "perm_results = pd.DataFrame({\n",
    "    'conv_a': conv_a,\n",
    "    'no_conv_a': no_conv_a,\n",
    "    'conv_b': conv_b,\n",
    "    'no_conv_b': no_conv_b\n",
    "})\n",
    "\n",
    "# 2e. Calcular la tasa de conversión para cada grupo simulado\n",
    "perm_results['a_conv_rate'] = perm_results['conv_a'] / (perm_results['conv_a'] + perm_results['no_conv_a'])\n",
    "perm_results['b_conv_rate'] = perm_results['conv_b'] / (perm_results['conv_b'] + perm_results['no_conv_b'])\n",
    "\n",
    "# Calcular la diferencia en la tasa de conversión entre los grupos A y B simulados\n",
    "perm_results['diff'] = 1 - (perm_results['b_conv_rate'] / perm_results['a_conv_rate'])"
   ]
  },
  {
   "cell_type": "code",
   "execution_count": 6,
   "metadata": {},
   "outputs": [
    {
     "name": "stdout",
     "output_type": "stream",
     "text": [
      "Valor P: 0.077\n"
     ]
    },
    {
     "data": {
      "image/png": "[encoded data removed]",
      "text/plain": [
       "<Figure size 640x480 with 1 Axes>"
      ]
     },
     "metadata": {},
     "output_type": "display_data"
    }
   ],
   "source": [
    "# 3. Graficar los resultados y calcular el Valor P\n",
    "sns.histplot(perm_results['diff'], kde=False)\n",
    "plt.axvline(diferencia_en_proporcion, color='r')\n",
    "\n",
    "# 4. Calcular el Valor P\n",
    "p_value = (perm_results['diff'] >= diferencia_en_proporcion).sum() / len(perm_results)\n",
    "print(f'Valor P: {p_value}')\n"
   ]
  },
  {
   "cell_type": "markdown",
   "metadata": {},
   "source": [
    "El histograma muestra la la distribución de las diferencias en las tasas de conversión entre los grupos A y B simulados a través de tus 1000 iteraciones del test de permutación. Cada barra del histograma representa el número de veces que se observó una diferencia específica entre las tasas de conversión de los grupos A y B simulados."
   ]
  },
  {
   "cell_type": "markdown",
   "metadata": {},
   "source": [
    "- **Hipótesis Nula (H0):** No hay diferencia en la efectividad entre los flujos de ventas A y B. Esto significa que cualquier diferencia observada en las tasas de conversión entre los grupos A y B en nuestra muestra de datos se debe al azar.\n",
    "\n",
    "- **Hipótesis Alternativa (H1):** Hay una diferencia en la efectividad entre los flujos de ventas A y B. Esto sugiere que la diferencia observada en las tasas de conversión es estadísticamente significativa y no se debe al azar.\n"
   ]
  },
  {
   "cell_type": "markdown",
   "metadata": {},
   "source": [
    "Aquí es donde entra en juego el famoso \"valor P\" de 0.077.\n",
    "\n",
    "El \"nivel de confianza del 95%\" es una regla que mucha gente sigue para estar bastante segura de sus decisiones. Si el valor P es menor que 0.05 (lo que significa que hay menos de un 5% de posibilidad de que la diferencia observada sea por casualidad), entonces diríamos que estamos bastante seguros de que un flujo es más efectivo que otro. Pero con un valor P de 0.077, estamos fuera de esa \"zona de seguridad\"\n",
    "\n",
    "### ¿Qué Implicaciones Tiene Esto?\n",
    "\n",
    "El valor P de 0.077 sugiere que esta diferencia podría deberse a la variabilidad aleatoria en lugar de una ventaja real de uno sobre el otro. En términos simples, no estamos suficientemente seguros de que la diferencia observada no sea producto del azar."
   ]
  },
  {
   "cell_type": "markdown",
   "metadata": {},
   "source": [
    "##### Entendiendo las Pruebas A/B: ¿Qué estamos intentando descubrir?\n",
    "\n",
    "Cuando hacemos pruebas A/B, como comparar dos maneras diferentes de vender algo, básicamente estamos tratando de averiguar cuál funciona mejor. Para esto, usamos dos términos importantes:\n",
    "\n",
    "- **Lo que esperamos que sea cierto si no hay diferencia (Hipótesis Nula):** Imagina que tienes dos recetas de galletas y quieres saber si una es más deliciosa que la otra. Antes de empezar, decides creer que ambas recetas son igual de buenas, hasta que pruebes lo contrario. Esto es lo que llamamos la \"Hipótesis Nula\".\n",
    "\n",
    "- **Lo que esperamos descubrir si realmente hay una diferencia (Hipótesis Alternativa):** Ahora, si después de probar descubres que a tus amigos les encantan más las galletas de una receta que de la otra, entonces tienes una buena razón para pensar que una receta podría ser mejor. Esto es lo que llamamos la \"Hipótesis Alternativa\".\n"
   ]
  },
  {
   "cell_type": "markdown",
   "metadata": {},
   "source": [
    "#### Usando pruebas paramétricas para resolver esto: "
   ]
  },
  {
   "cell_type": "markdown",
   "metadata": {},
   "source": [
    "## La Prueba Z para Dos Proporciones: Una Explicación Simple\n",
    "\n",
    "### ¿Qué es la Prueba Z para Dos Proporciones?\n",
    "La prueba Z para dos proporciones es un método estadístico que nos permite comparar si la diferencia en las tasas de éxito (como las conversiones en ventas entre dos grupos, A y B) es estadísticamente significativa o si podría haber ocurrido por casualidad. Imagina que estás comparando el éxito de dos diferentes estrategias de marketing para ver cuál es más efectiva en convertir prospectos en clientes.\n",
    "\n",
    "### Supuestos de la Prueba Z\n",
    "Para que la prueba Z para dos proporciones funcione correctamente y proporcione resultados fiables, debe cumplir con ciertos criterios:\n",
    "\n",
    "- **Muestreo Aleatorio:** Cada muestra debe ser seleccionada aleatoriamente de la población. Esto asegura que cada individuo tenga la misma oportunidad de ser incluido, similar a cómo podrías elegir a amigos al azar para probar dos tipos diferentes de limonada.\n",
    "\n",
    "- **Independencia de las Observaciones:** Las respuestas (o resultados) de un individuo no deben influir en las respuestas de otro. Esto es como asegurar que la opinión de un amigo sobre una limonada no cambie la opinión de otro amigo.\n",
    "\n"
   ]
  },
  {
   "cell_type": "code",
   "execution_count": 14,
   "metadata": {},
   "outputs": [
    {
     "name": "stdout",
     "output_type": "stream",
     "text": [
      "P-valor: 0.14316613936261435\n"
     ]
    }
   ],
   "source": [
    "from statsmodels.stats.proportion import proportions_ztest\n",
    "\n",
    "# Contar el número de conversiones en cada grupo\n",
    "conversiones_A = sum(df[df['test'] == 'A']['conversion'])\n",
    "conversiones_B = sum(df[df['test'] == 'B']['conversion'])\n",
    "\n",
    "# Obtener el número total de casos en cada grupo\n",
    "n_A = len(df[df['test'] == 'A'])\n",
    "n_B = len(df[df['test'] == 'B'])\n",
    "\n",
    "# Realizar la prueba Z para dos proporciones\n",
    "stat, p_valor = proportions_ztest([conversiones_A, conversiones_B], [n_A, n_B])\n",
    "\n",
    "print(f\"P-valor: {p_valor}\")"
   ]
  },
  {
   "cell_type": "markdown",
   "metadata": {},
   "source": [
    "Dado que el p-valor (0.143) es mayor que 0.05, no rechazarías la hipótesis nula. Esto significa que, basándose en los datos de tu estudio, no hay evidencia suficiente para concluir que existe una diferencia estadísticamente significativa entre los grupos comparados"
   ]
  }
 ],
 "metadata": {
  "kernelspec": {
   "display_name": "Python 3",
   "language": "python",
   "name": "python3"
  },
  "language_info": {
   "codemirror_mode": {
    "name": "ipython",
    "version": 3
   },
   "file_extension": ".py",
   "mimetype": "text/x-python",
   "name": "python",
   "nbconvert_exporter": "python",
   "pygments_lexer": "ipython3",
   "version": "3.7.16"
  }
 },
 "nbformat": 4,
 "nbformat_minor": 4
}
